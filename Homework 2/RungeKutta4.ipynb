{
 "cells": [
  {
   "cell_type": "code",
   "execution_count": 1,
   "id": "41989339",
   "metadata": {},
   "outputs": [],
   "source": [
    "import numpy as np\n",
    "import matplotlib.pyplot as plt"
   ]
  },
  {
   "cell_type": "code",
   "execution_count": 7,
   "id": "a287002b",
   "metadata": {},
   "outputs": [],
   "source": [
    "def RK (f, g, x0, y0, a, b, h):\n",
    "    t = np.arange(a, b+h, h)\n",
    "    n = len(t)\n",
    "    x = np.zeros(n)\n",
    "    y = np.zeros(n)\n",
    "    x[0] = x0\n",
    "    y[0] = y0\n",
    "    for i in range(n-1):\n",
    "        k1 = h * f(x[i], y[i], t[i])\n",
    "        l1 = h * g(x[i], y[i], t[i])\n",
    "        k2 = h * f(x[i] + k1/2, y[i] + l1/2, t[i] + h/2)\n",
    "        l2 = h * g(x[i] + k1/2, y[i] + l1/2, t[i] + h/2)\n",
    "        k3 = h * f(x[i] + k2/2, y[i] + l2/2, t[i] + h/2)\n",
    "        l3 = h * f(x[i] + k2/2, y[i] + l2/2, t[i] + h/2)\n",
    "        k4 = h * f(x[i] + k3, y[i] + l3, t[i] + h)\n",
    "        l4 = h * g(x[i] + k3, y[i] + l3, t[i] + h)\n",
    "        \n",
    "        x[i+1] = x[i] + (1/6) * (k1 + 2*k2 + 2*k3 + k4)\n",
    "        y[i+1] = y[i] + (1/6) * (l1 + 2*l2 + 2*l3 + l4)"
   ]
  },
  {
   "cell_type": "code",
   "execution_count": 9,
   "id": "2007d5ee",
   "metadata": {},
   "outputs": [],
   "source": [
    "def RK_ (f, x0, a, b, h):\n",
    "    t = np.arange(a, b+h, h)\n",
    "    n = len(t)\n",
    "    x = np.zeros(n)\n",
    "    x[0] = x0\n",
    "    for i in range(n-1):\n",
    "        k1 = h * f(x[i], t[i])\n",
    "        k2 = h * f(x[i] + k1/2, t[i] + h/2)\n",
    "        k3 = h * f(x[i] + k2/2, t[i] + h/2)\n",
    "        k4 = h * f(x[i] + k3, t[i] + h)\n",
    "        \n",
    "        x[i+1] = x[i] + (1/6) * (k1 + 2*k2 + 2*k3 + k4)"
   ]
  }
 ],
 "metadata": {
  "kernelspec": {
   "display_name": "Python 3 (ipykernel)",
   "language": "python",
   "name": "python3"
  },
  "language_info": {
   "codemirror_mode": {
    "name": "ipython",
    "version": 3
   },
   "file_extension": ".py",
   "mimetype": "text/x-python",
   "name": "python",
   "nbconvert_exporter": "python",
   "pygments_lexer": "ipython3",
   "version": "3.9.13"
  }
 },
 "nbformat": 4,
 "nbformat_minor": 5
}
